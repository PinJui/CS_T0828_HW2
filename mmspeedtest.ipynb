{
  "nbformat": 4,
  "nbformat_minor": 0,
  "metadata": {
    "colab": {
      "name": "mmspeedtest.ipynb",
      "provenance": [],
      "collapsed_sections": []
    },
    "kernelspec": {
      "name": "python3",
      "display_name": "Python 3"
    },
    "accelerator": "GPU"
  },
  "cells": [
    {
      "cell_type": "code",
      "metadata": {
        "colab": {
          "base_uri": "https://localhost:8080/"
        },
        "id": "2LqlJ8tl747n",
        "outputId": "95c311de-a55d-4809-ec08-c64ae09fadbe"
      },
      "source": [
        "!pip install -U torch==1.5.1+cu101 torchvision==0.6.1+cu101 -f https://download.pytorch.org/whl/torch_stable.html"
      ],
      "execution_count": 1,
      "outputs": [
        {
          "output_type": "stream",
          "text": [
            "Looking in links: https://download.pytorch.org/whl/torch_stable.html\n",
            "Collecting torch==1.5.1+cu101\n",
            "\u001b[?25l  Downloading https://download.pytorch.org/whl/cu101/torch-1.5.1%2Bcu101-cp36-cp36m-linux_x86_64.whl (704.4MB)\n",
            "\u001b[K     |████████████████████████████████| 704.4MB 25kB/s \n",
            "\u001b[?25hCollecting torchvision==0.6.1+cu101\n",
            "\u001b[?25l  Downloading https://download.pytorch.org/whl/cu101/torchvision-0.6.1%2Bcu101-cp36-cp36m-linux_x86_64.whl (6.6MB)\n",
            "\u001b[K     |████████████████████████████████| 6.6MB 49.3MB/s \n",
            "\u001b[?25hRequirement already satisfied, skipping upgrade: future in /usr/local/lib/python3.6/dist-packages (from torch==1.5.1+cu101) (0.16.0)\n",
            "Requirement already satisfied, skipping upgrade: numpy in /usr/local/lib/python3.6/dist-packages (from torch==1.5.1+cu101) (1.18.5)\n",
            "Requirement already satisfied, skipping upgrade: pillow>=4.1.1 in /usr/local/lib/python3.6/dist-packages (from torchvision==0.6.1+cu101) (7.0.0)\n",
            "Installing collected packages: torch, torchvision\n",
            "  Found existing installation: torch 1.7.0+cu101\n",
            "    Uninstalling torch-1.7.0+cu101:\n",
            "      Successfully uninstalled torch-1.7.0+cu101\n",
            "  Found existing installation: torchvision 0.8.1+cu101\n",
            "    Uninstalling torchvision-0.8.1+cu101:\n",
            "      Successfully uninstalled torchvision-0.8.1+cu101\n",
            "Successfully installed torch-1.5.1+cu101 torchvision-0.6.1+cu101\n"
          ],
          "name": "stdout"
        }
      ]
    },
    {
      "cell_type": "code",
      "metadata": {
        "colab": {
          "base_uri": "https://localhost:8080/"
        },
        "id": "2qYgVOMM8D7-",
        "outputId": "fda6045e-d305-4ce3-8a89-d2ef3645ef46"
      },
      "source": [
        "# install mmcv-full thus we could use CUDA operators\n",
        "!pip install mmcv-full\n",
        "\n",
        "# Install mmdetection\n",
        "!rm -rf mmdetection\n",
        "!git clone https://github.com/open-mmlab/mmdetection.git\n",
        "%cd mmdetection\n",
        "\n",
        "!pip install -e .\n",
        "\n",
        "# install Pillow 7.0.0 back in order to avoid bug in colab\n",
        "!pip install Pillow==7.0.0"
      ],
      "execution_count": 2,
      "outputs": [
        {
          "output_type": "stream",
          "text": [
            "Collecting mmcv-full\n",
            "\u001b[?25l  Downloading https://files.pythonhosted.org/packages/ef/90/e0e86b22e2acc05c55273a680072d7484630e46b487118ce922a3e285343/mmcv-full-1.2.0.tar.gz (241kB)\n",
            "\r\u001b[K     |█▍                              | 10kB 22.0MB/s eta 0:00:01\r\u001b[K     |██▊                             | 20kB 14.9MB/s eta 0:00:01\r\u001b[K     |████                            | 30kB 13.0MB/s eta 0:00:01\r\u001b[K     |█████▍                          | 40kB 12.0MB/s eta 0:00:01\r\u001b[K     |██████▊                         | 51kB 8.5MB/s eta 0:00:01\r\u001b[K     |████████▏                       | 61kB 9.1MB/s eta 0:00:01\r\u001b[K     |█████████▌                      | 71kB 8.9MB/s eta 0:00:01\r\u001b[K     |██████████▉                     | 81kB 9.9MB/s eta 0:00:01\r\u001b[K     |████████████▏                   | 92kB 9.3MB/s eta 0:00:01\r\u001b[K     |█████████████▌                  | 102kB 8.1MB/s eta 0:00:01\r\u001b[K     |███████████████                 | 112kB 8.1MB/s eta 0:00:01\r\u001b[K     |████████████████▎               | 122kB 8.1MB/s eta 0:00:01\r\u001b[K     |█████████████████▋              | 133kB 8.1MB/s eta 0:00:01\r\u001b[K     |███████████████████             | 143kB 8.1MB/s eta 0:00:01\r\u001b[K     |████████████████████▎           | 153kB 8.1MB/s eta 0:00:01\r\u001b[K     |█████████████████████▋          | 163kB 8.1MB/s eta 0:00:01\r\u001b[K     |███████████████████████         | 174kB 8.1MB/s eta 0:00:01\r\u001b[K     |████████████████████████▍       | 184kB 8.1MB/s eta 0:00:01\r\u001b[K     |█████████████████████████▊      | 194kB 8.1MB/s eta 0:00:01\r\u001b[K     |███████████████████████████     | 204kB 8.1MB/s eta 0:00:01\r\u001b[K     |████████████████████████████▍   | 215kB 8.1MB/s eta 0:00:01\r\u001b[K     |█████████████████████████████▉  | 225kB 8.1MB/s eta 0:00:01\r\u001b[K     |███████████████████████████████▏| 235kB 8.1MB/s eta 0:00:01\r\u001b[K     |████████████████████████████████| 245kB 8.1MB/s \n",
            "\u001b[?25hCollecting addict\n",
            "  Downloading https://files.pythonhosted.org/packages/6a/00/b08f23b7d7e1e14ce01419a467b583edbb93c6cdb8654e54a9cc579cd61f/addict-2.4.0-py3-none-any.whl\n",
            "Requirement already satisfied: numpy in /usr/local/lib/python3.6/dist-packages (from mmcv-full) (1.18.5)\n",
            "Requirement already satisfied: Pillow in /usr/local/lib/python3.6/dist-packages (from mmcv-full) (7.0.0)\n",
            "Requirement already satisfied: pyyaml in /usr/local/lib/python3.6/dist-packages (from mmcv-full) (3.13)\n",
            "Collecting yapf\n",
            "\u001b[?25l  Downloading https://files.pythonhosted.org/packages/c1/5d/d84677fe852bc5e091739acda444a9b6700ffc6b11a21b00dd244c8caef0/yapf-0.30.0-py2.py3-none-any.whl (190kB)\n",
            "\u001b[K     |████████████████████████████████| 194kB 14.3MB/s \n",
            "\u001b[?25hBuilding wheels for collected packages: mmcv-full\n",
            "  Building wheel for mmcv-full (setup.py) ... \u001b[?25l\u001b[?25hdone\n",
            "  Created wheel for mmcv-full: filename=mmcv_full-1.2.0-cp36-cp36m-linux_x86_64.whl size=17044184 sha256=1118c51c1439d0bd045e4024e6255b772dcad238755a6252657680b325bffd89\n",
            "  Stored in directory: /root/.cache/pip/wheels/b1/28/b7/e7efc5f0bfd71e6b8da29143406795dccd177fe94eba869cf4\n",
            "Successfully built mmcv-full\n",
            "Installing collected packages: addict, yapf, mmcv-full\n",
            "Successfully installed addict-2.4.0 mmcv-full-1.2.0 yapf-0.30.0\n",
            "Cloning into 'mmdetection'...\n",
            "remote: Enumerating objects: 9, done.\u001b[K\n",
            "remote: Counting objects: 100% (9/9), done.\u001b[K\n",
            "remote: Compressing objects: 100% (9/9), done.\u001b[K\n",
            "remote: Total 14347 (delta 0), reused 0 (delta 0), pack-reused 14338\u001b[K\n",
            "Receiving objects: 100% (14347/14347), 14.16 MiB | 33.42 MiB/s, done.\n",
            "Resolving deltas: 100% (9755/9755), done.\n",
            "/content/mmdetection\n",
            "Obtaining file:///content/mmdetection\n",
            "Requirement already satisfied: matplotlib in /usr/local/lib/python3.6/dist-packages (from mmdet==2.6.0) (3.2.2)\n",
            "Collecting mmpycocotools\n",
            "  Downloading https://files.pythonhosted.org/packages/99/51/1bc1d79f296347eeb2d1a2e0606885ab1e4682833bf275fd39c189952e26/mmpycocotools-12.0.3.tar.gz\n",
            "Requirement already satisfied: numpy in /usr/local/lib/python3.6/dist-packages (from mmdet==2.6.0) (1.18.5)\n",
            "Requirement already satisfied: six in /usr/local/lib/python3.6/dist-packages (from mmdet==2.6.0) (1.15.0)\n",
            "Collecting terminaltables\n",
            "  Downloading https://files.pythonhosted.org/packages/9b/c4/4a21174f32f8a7e1104798c445dacdc1d4df86f2f26722767034e4de4bff/terminaltables-3.1.0.tar.gz\n",
            "Requirement already satisfied: python-dateutil>=2.1 in /usr/local/lib/python3.6/dist-packages (from matplotlib->mmdet==2.6.0) (2.8.1)\n",
            "Requirement already satisfied: pyparsing!=2.0.4,!=2.1.2,!=2.1.6,>=2.0.1 in /usr/local/lib/python3.6/dist-packages (from matplotlib->mmdet==2.6.0) (2.4.7)\n",
            "Requirement already satisfied: cycler>=0.10 in /usr/local/lib/python3.6/dist-packages (from matplotlib->mmdet==2.6.0) (0.10.0)\n",
            "Requirement already satisfied: kiwisolver>=1.0.1 in /usr/local/lib/python3.6/dist-packages (from matplotlib->mmdet==2.6.0) (1.3.1)\n",
            "Requirement already satisfied: setuptools>=18.0 in /usr/local/lib/python3.6/dist-packages (from mmpycocotools->mmdet==2.6.0) (50.3.2)\n",
            "Requirement already satisfied: cython>=0.27.3 in /usr/local/lib/python3.6/dist-packages (from mmpycocotools->mmdet==2.6.0) (0.29.21)\n",
            "Building wheels for collected packages: mmpycocotools, terminaltables\n",
            "  Building wheel for mmpycocotools (setup.py) ... \u001b[?25l\u001b[?25hdone\n",
            "  Created wheel for mmpycocotools: filename=mmpycocotools-12.0.3-cp36-cp36m-linux_x86_64.whl size=266783 sha256=2717b29bc162689859be719ae05ca64c5176b7d77d048c4af80e0b464c2301c1\n",
            "  Stored in directory: /root/.cache/pip/wheels/a2/b0/8d/3307912785a42bc80f673946fac676d5c596eee537af7a599c\n",
            "  Building wheel for terminaltables (setup.py) ... \u001b[?25l\u001b[?25hdone\n",
            "  Created wheel for terminaltables: filename=terminaltables-3.1.0-cp36-none-any.whl size=15356 sha256=6a4b3f369315d7e847ceab3bf4ab78d4be602c36405de2a0047c94b64f9b1002\n",
            "  Stored in directory: /root/.cache/pip/wheels/30/6b/50/6c75775b681fb36cdfac7f19799888ef9d8813aff9e379663e\n",
            "Successfully built mmpycocotools terminaltables\n",
            "Installing collected packages: mmpycocotools, terminaltables, mmdet\n",
            "  Running setup.py develop for mmdet\n",
            "Successfully installed mmdet mmpycocotools-12.0.3 terminaltables-3.1.0\n",
            "Requirement already satisfied: Pillow==7.0.0 in /usr/local/lib/python3.6/dist-packages (7.0.0)\n"
          ],
          "name": "stdout"
        }
      ]
    },
    {
      "cell_type": "code",
      "metadata": {
        "id": "YPdNq9Sj9Ju5"
      },
      "source": [
        "import torchvision\n",
        "import torch\n",
        "import mmdet\n",
        "from mmdet.apis import inference_detector, init_detector\n",
        "\n",
        "config = '/content/mmdetection/configs/faster_rcnn/faster_rcnn_r50_fpn_1x_coco.py'\n",
        "checkpoint = '/content/drive/MyDrive/epoch_10.pth'\n",
        "model = init_detector(config, checkpoint, device='cuda:0')\n",
        "img = '/content/drive/MyDrive/test/1.png'"
      ],
      "execution_count": 3,
      "outputs": []
    },
    {
      "cell_type": "code",
      "metadata": {
        "colab": {
          "base_uri": "https://localhost:8080/"
        },
        "id": "h9WNu3mqBj8P",
        "outputId": "d46e01b1-6784-4936-a280-58c6a0f1b062"
      },
      "source": [
        "%timeit result = inference_detector(model, img)"
      ],
      "execution_count": 5,
      "outputs": [
        {
          "output_type": "stream",
          "text": [
            "10 loops, best of 3: 113 ms per loop\n"
          ],
          "name": "stdout"
        }
      ]
    },
    {
      "cell_type": "code",
      "metadata": {
        "id": "b2SiYBr1DVvg"
      },
      "source": [
        ""
      ],
      "execution_count": null,
      "outputs": []
    }
  ]
}